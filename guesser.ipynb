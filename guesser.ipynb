{
 "cells": [
  {
   "cell_type": "code",
   "execution_count": 1,
   "metadata": {},
   "outputs": [],
   "source": [
    "import requests as r\n",
    "from bs4 import BeautifulSoup\n",
    "from tqdm import tqdm\n",
    "import re\n",
    "from collections import Counter\n",
    "import pymorphy2\n",
    "import time\n",
    "import matplotlib.pyplot as plt"
   ]
  },
  {
   "cell_type": "markdown",
   "metadata": {},
   "source": [
    "### Собираем корпус слов"
   ]
  },
  {
   "cell_type": "code",
   "execution_count": 2,
   "metadata": {},
   "outputs": [
    {
     "name": "stderr",
     "output_type": "stream",
     "text": [
      "100%|████████████████████████████████████████████████████████████████████████████████| 360/360 [05:31<00:00,  1.09it/s]\n"
     ]
    }
   ],
   "source": [
    "corpus = Counter()\n",
    "morph = pymorphy2.MorphAnalyzer()\n",
    "\n",
    "for i in tqdm(range(360)):\n",
    "    soup = BeautifulSoup(r.get(f'https://ilibrary.ru/text/11/p.{i+1}/index.html').text, 'html.parser')  # soup\n",
    "    el = [el.text.rstrip().lower() for el in soup.find_all('span', class_='p')]  # text\n",
    "    words = re.findall('[а-яА-Я]+', ' '.join(el))  # only russian\n",
    "    tmp = list()\n",
    "    for w in words:\n",
    "        w = morph.parse(w)[0].normal_form\n",
    "        if len(w) != 5:\n",
    "            continue\n",
    "        tmp.append(w)\n",
    "    \n",
    "    words = tmp\n",
    "    c = Counter(words)\n",
    "    \n",
    "    corpus.update(c)\n",
    "    time.sleep(.5)"
   ]
  },
  {
   "cell_type": "markdown",
   "metadata": {},
   "source": [
    "### Отбираем по уже прошедшим правилам"
   ]
  },
  {
   "cell_type": "code",
   "execution_count": 3,
   "metadata": {},
   "outputs": [],
   "source": [
    "def rule1(l: str, word: str, pos: int) -> bool:  # Угадали и букву и место (True - стоп, False - дальше)\n",
    "    return l != word[pos-1] or (l in word and word[pos-1] != l)\n",
    "\n",
    "def rule2(l: str, word: str, pos: int) -> bool:  # Угадали букву, но не место\n",
    "    return l not in word or word[pos-1] == l\n",
    "\n",
    "def rule3(l: str, word: str) -> bool:  # Не угадали букву\n",
    "    return l in word"
   ]
  },
  {
   "cell_type": "code",
   "execution_count": 9,
   "metadata": {},
   "outputs": [
    {
     "name": "stderr",
     "output_type": "stream",
     "text": [
      "100%|█████████████████████████████████████████████████████████████████████████| 1405/1405 [00:00<00:00, 1811000.96it/s]\n"
     ]
    }
   ],
   "source": [
    "rules = [\n",
    "#     lambda word: rule3('в', word),\n",
    "#     lambda word: rule3('р', word),\n",
    "#     lambda word: rule3('е', word),\n",
    "#     lambda word: rule2('м', word, 4),\n",
    "#     lambda word: rule3('я', word),\n",
    "]\n",
    "\n",
    "res = dict()\n",
    "for word, freq in tqdm(corpus.items()):\n",
    "    f = True\n",
    "    for rule in rules:\n",
    "        if rule(word):\n",
    "            f = False\n",
    "            break\n",
    "    if not f:\n",
    "        continue\n",
    "    \n",
    "    res[word] = freq\n",
    "\n",
    "res = Counter(res)"
   ]
  },
  {
   "cell_type": "markdown",
   "metadata": {},
   "source": [
    "### Самые вероятные слова"
   ]
  },
  {
   "cell_type": "code",
   "execution_count": 10,
   "metadata": {},
   "outputs": [
    {
     "name": "stdout",
     "output_type": "stream",
     "text": [
      "45711 слов из 45711\n"
     ]
    }
   ],
   "source": [
    "print(sum(res.values()), 'слов из', sum(corpus.values()))"
   ]
  },
  {
   "cell_type": "code",
   "execution_count": 11,
   "metadata": {},
   "outputs": [
    {
     "data": {
      "text/plain": [
       "[('князь', 2057),\n",
       " ('знать', 1346),\n",
       " ('когда', 1143),\n",
       " ('чтобы', 968),\n",
       " ('время', 965),\n",
       " ('такой', 875),\n",
       " ('какой', 782),\n",
       " ('марья', 759),\n",
       " ('слово', 686),\n",
       " ('стать', 674),\n",
       " ('жизнь', 632),\n",
       " ('опять', 620),\n",
       " ('голос', 594),\n",
       " ('очень', 556),\n",
       " ('после', 544),\n",
       " ('иметь', 514),\n",
       " ('вдруг', 501),\n",
       " ('самый', 500),\n",
       " ('ежели', 483),\n",
       " ('будто', 481),\n",
       " ('армия', 480),\n",
       " ('взять', 442),\n",
       " ('выйти', 440),\n",
       " ('более', 429),\n",
       " ('перед', 428),\n",
       " ('место', 402),\n",
       " ('дверь', 374),\n",
       " ('новый', 373),\n",
       " ('пойти', 371),\n",
       " ('между', 365),\n",
       " ('ехать', 350),\n",
       " ('никто', 336),\n",
       " ('мысль', 327),\n",
       " ('через', 321),\n",
       " ('войти', 305),\n",
       " ('потом', 304),\n",
       " ('борис', 297),\n",
       " ('война', 293),\n",
       " ('народ', 291),\n",
       " ('тогда', 277),\n",
       " ('нужно', 265),\n",
       " ('назад', 262),\n",
       " ('толпа', 260),\n",
       " ('немой', 250),\n",
       " ('общий', 219),\n",
       " ('можно', 214),\n",
       " ('долох', 204),\n",
       " ('кроме', 200),\n",
       " ('много', 200),\n",
       " ('вечер', 196)]"
      ]
     },
     "execution_count": 11,
     "metadata": {},
     "output_type": "execute_result"
    }
   ],
   "source": [
    "res.most_common(50)"
   ]
  },
  {
   "cell_type": "markdown",
   "metadata": {},
   "source": [
    "### Вероятности по буквам"
   ]
  },
  {
   "cell_type": "code",
   "execution_count": 8,
   "metadata": {},
   "outputs": [
    {
     "data": {
      "image/png": "[encoded data removed]",
      "text/plain": [
       "<Figure size 1152x432 with 5 Axes>"
      ]
     },
     "metadata": {
      "needs_background": "light"
     },
     "output_type": "display_data"
    }
   ],
   "source": [
    "n = 5  # Будем рысовать по 5 букв на позицию\n",
    "\n",
    "fig, ax = plt.subplots(1, 5, figsize=(16, 6))\n",
    "\n",
    "for pos in range(5):\n",
    "    # Посчитали буквы на позиции\n",
    "    tmp = Counter()\n",
    "    for word, freq in res.items():\n",
    "        l = word[pos]\n",
    "        tmp.update(Counter({l: freq}))\n",
    "    \n",
    "    # Берем n самых популярных и считаем вероятности\n",
    "    tmp1 = dict()\n",
    "    for l, freq in tmp.most_common(n):\n",
    "        tmp1[l] = round(freq / sum(tmp.values()), 3)\n",
    "    \n",
    "    ax[pos].set_xlabel(f'{pos+1}-я буква')\n",
    "    ax[pos].bar(list(tmp1.keys()), list(tmp1.values()), color='gray', width=.5)\n",
    "    \n",
    "    \n",
    "plt.show()"
   ]
  },
  {
   "cell_type": "code",
   "execution_count": null,
   "metadata": {},
   "outputs": [],
   "source": []
  }
 ],
 "metadata": {
  "kernelspec": {
   "display_name": "Python 3",
   "language": "python",
   "name": "python3"
  },
  "language_info": {
   "codemirror_mode": {
    "name": "ipython",
    "version": 3
   },
   "file_extension": ".py",
   "mimetype": "text/x-python",
   "name": "python",
   "nbconvert_exporter": "python",
   "pygments_lexer": "ipython3",
   "version": "3.8.5"
  }
 },
 "nbformat": 4,
 "nbformat_minor": 4
}
